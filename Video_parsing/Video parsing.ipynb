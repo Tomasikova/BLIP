{
 "cells": [
  {
   "cell_type": "markdown",
   "metadata": {},
   "source": [
    "# Video parsing frame by frame"
   ]
  },
  {
   "cell_type": "markdown",
   "metadata": {},
   "source": [
    "This code snippet parsing video frame by frame. You have to run this piece of code direct in command line because Jupyter notebook doesnt working well with file system."
   ]
  },
  {
   "cell_type": "code",
   "execution_count": 2,
   "metadata": {
    "collapsed": false,
    "scrolled": false
   },
   "outputs": [
    {
     "name": "stdout",
     "output_type": "stream",
     "text": [
      "DONE\n"
     ]
    }
   ],
   "source": [
    "import cv2\n",
    "\n",
    "capture = cv2.VideoCapture(\"MVI_2359_small.avi\")\n",
    "\n",
    "count = 0\n",
    "while(capture.isOpened()):\n",
    "    ret, frame = capture.read()\n",
    "    if ret == False:\n",
    "        print('DONE')\n",
    "        break\n",
    "    cv2.imwrite(\"frames/frame%d.jpg\" %count, frame)\n",
    "    count = count + 1    \n",
    "       \n",
    "capture.release()"
   ]
  }
 ],
 "metadata": {
  "anaconda-cloud": {},
  "kernelspec": {
   "display_name": "Python [conda root]",
   "language": "python",
   "name": "conda-root-py"
  },
  "language_info": {
   "codemirror_mode": {
    "name": "ipython",
    "version": 3
   },
   "file_extension": ".py",
   "mimetype": "text/x-python",
   "name": "python",
   "nbconvert_exporter": "python",
   "pygments_lexer": "ipython3",
   "version": "3.5.2"
  }
 },
 "nbformat": 4,
 "nbformat_minor": 1
}
