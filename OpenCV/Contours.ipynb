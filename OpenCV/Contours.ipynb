{
 "cells": [
  {
   "cell_type": "code",
   "execution_count": 2,
   "metadata": {
    "collapsed": false
   },
   "outputs": []
    }
   ],
   "source": [
    "from ipywidgets import interact, interactive, fixed\n",
    "import numpy as np\n",
    "import matplotlib.pyplot as plt\n",
    "\n",
    "%matplotlib inline\n",
    "%config InlineBackend.figure_formats=['png']\n",
    "\n",
    "import cv2"
   ]
  },
  {
   "cell_type": "code",
   "execution_count": null,
   "metadata": {
    "collapsed": false
   },
   "outputs": [],
   "source": [
    "# random image\n",
    "frnum = range(10)\n",
    "nobr = np.random.choice(frnum)\n",
    "obraz = cv2.imread(\"Frames/frame%d.jpg\" %nobr)\n",
    "sedy  = cv2.cvtColor(obraz, cv2.COLOR_BGR2GRAY)\n",
    "# cv2.imshow(\"Sedy\", sedy)"
   ]
  },
  {
   "cell_type": "code",
   "execution_count": null,
   "metadata": {
    "collapsed": false
   },
   "outputs": [],
   "source": [
    "f = plt.figure(figsize=(12.8,7.2))\n",
    "plt.imshow(sedy,cmap=\"gray\")\n",
    "plt.axis(\"off\");"
   ]
  },
  {
   "cell_type": "code",
   "execution_count": null,
   "metadata": {
    "collapsed": false
   },
   "outputs": [],
   "source": [
    "cbim = cv2.adaptiveThreshold(sedy,255,cv2.ADAPTIVE_THRESH_GAUSSIAN_C,cv2.THRESH_BINARY,11,2)"
   ]
  },
  {
   "cell_type": "code",
   "execution_count": null,
   "metadata": {
    "collapsed": false
   },
   "outputs": [],
   "source": [
    "cbim = 255 - cbim\n",
    "f = plt.figure(figsize=(12.8,7.2))\n",
    "plt.imshow(cbim,cmap=\"gray\")\n",
    "plt.axis(\"off\");"
   ]
  },
  {
   "cell_type": "code",
   "execution_count": null,
   "metadata": {
    "collapsed": false
   },
   "outputs": [],
   "source": [
    "im2, contours, hierarchy = cv2.findContours(cbim,cv2.RETR_TREE,cv2.CHAIN_APPROX_SIMPLE)\n",
    "cv2.drawContours(cbim,contours, -1, (10,255,0), 3)\n",
    "f = plt.figure(figsize=(12.8,7.2))\n",
    "plt.imshow(cbim,cmap=\"gray\")\n",
    "plt.axis(\"off\");"
   ]
  },
  {
   "cell_type": "code",
   "execution_count": null,
   "metadata": {
    "collapsed": false
   },
   "outputs": [],
   "source": [
    "cbc = cbim.copy()\n",
    "cnts = []\n",
    "pi = np.pi\n",
    "for c in contours:\n",
    "    (x,y),r = cv2.minEnclosingCircle(c)\n",
    "    clen = cv2.contourArea(c)\n",
    "    if (10 < r < 16) and (pi*10**2 - 20 < clen < pi*16**2 + 20):\n",
    "        cnts.append(c)\n",
    "\n",
    "cv2.drawContours(cbc,cnts, -1, (150,150,150), 3)\n",
    "f = plt.figure(figsize=(12.8,7.2))\n",
    "plt.imshow(cbc,cmap=\"gray\")\n",
    "plt.axis(\"off\");"
   ]
  },
  {
   "cell_type": "code",
   "execution_count": null,
   "metadata": {
    "collapsed": false
   },
   "outputs": [],
   "source": [
    "255 - cbim"
   ]
  },
  {
   "cell_type": "code",
   "execution_count": null,
   "metadata": {
    "collapsed": true
   },
   "outputs": [],
   "source": []
  }
 ],
 "metadata": {
  "kernelspec": {
   "display_name": "Python 2",
   "language": "python",
   "name": "python2"
  },
  "language_info": {
   "codemirror_mode": {
    "name": "ipython",
    "version": 2
   },
   "file_extension": ".py",
   "mimetype": "text/x-python",
   "name": "python",
   "nbconvert_exporter": "python",
   "pygments_lexer": "ipython2",
   "version": "2.7.9"
  }
 },
 "nbformat": 4,
 "nbformat_minor": 1
}
